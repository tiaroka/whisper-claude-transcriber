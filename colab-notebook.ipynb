{
 "cells": [
  {
   "cell_type": "markdown",
   "id": "c2b59755",
   "metadata": {},
   "source": [
    "Audio Transcriber Colab Notebook\n",
    "このノートブックは音声ファイルから文字起こしを生成するためのものです"
   ]
  },
  {
   "cell_type": "code",
   "execution_count": null,
   "id": "bfedec7f",
   "metadata": {},
   "outputs": [],
   "source": [
    "# ライブラリをインストール（セッションの再起動が必要になる場合があります）\n",
    "!pip install google-cloud-secret-manager openai anthropic pydub tqdm httpx==0.26.0 openai==1.54.0 chardet\n",
    "!apt-get install -y ffmpeg"
   ]
  },
  {
   "cell_type": "code",
   "execution_count": null,
   "id": "ef4ad79f",
   "metadata": {},
   "outputs": [],
   "source": [
    "# Google Driveをマウント\n",
    "from google.colab import drive\n",
    "drive.mount('/content/drive')"
   ]
  },
  {
   "cell_type": "code",
   "execution_count": null,
   "id": "b1d008c5",
   "metadata": {},
   "outputs": [],
   "source": [
    "# 必要なモジュールをダウンロード\n",
    "!wget -O /content/audio_transcriber_parallel.py \\\n",
    "  https://raw.githubusercontent.com/tiaroka/whisper-claude-transcriber/main/audio_transcriber_parallel.py\n",
    "\n",
    "!wget -O /content/colab_local_compatibility.py \\\n",
    "  https://raw.githubusercontent.com/tiaroka/whisper-claude-transcriber/main/colab_local_compatibility.py"
   ]
  },
  {
   "cell_type": "code",
   "execution_count": null,
   "id": "2289e732",
   "metadata": {
    "lines_to_next_cell": 1
   },
   "outputs": [],
   "source": [
    "# colab_local_compatibility.pyの内容を作成\n",
    "%%writefile /content/colab_local_compatibility.py\n",
    "import os\n",
    "import sys\n",
    "from pathlib import Path\n",
    "from google.colab import auth\n",
    "from google.cloud import secretmanager"
   ]
  },
  {
   "cell_type": "code",
   "execution_count": null,
   "id": "10b7ad18",
   "metadata": {
    "lines_to_next_cell": 1
   },
   "outputs": [],
   "source": [
    "def is_running_in_colab():\n",
    "    \"\"\"Colabで実行されているかどうかを判定する。\"\"\"\n",
    "    return 'google.colab' in sys.modules"
   ]
  },
  {
   "cell_type": "code",
   "execution_count": null,
   "id": "68250d81",
   "metadata": {
    "lines_to_next_cell": 1
   },
   "outputs": [],
   "source": [
    "def setup_environment():\n",
    "    \"\"\"環境に応じた設定を行い、必要なパスを返す。\"\"\"\n",
    "    if is_running_in_colab():\n",
    "        # Google Colab環境の場合（パスは必要に応じて調整してください）\n",
    "        base_input_dir = \"/content/drive/MyDrive/Transcripter/Input\"\n",
    "        base_output_dir = \"/content/drive/MyDrive/Transcripter/Output\"\n",
    "        \n",
    "        # フォルダが存在しない場合は作成\n",
    "        os.makedirs(base_input_dir, exist_ok=True)\n",
    "        os.makedirs(base_output_dir, exist_ok=True)\n",
    "    else:\n",
    "        # ローカル環境の場合\n",
    "        script_dir = Path(__file__).parent.absolute()\n",
    "        base_input_dir = os.path.join(script_dir, \"input\")\n",
    "        base_output_dir = os.path.join(script_dir, \"output\")\n",
    "        \n",
    "        # フォルダが存在しない場合は作成\n",
    "        os.makedirs(base_input_dir, exist_ok=True)\n",
    "        os.makedirs(base_output_dir, exist_ok=True)\n",
    "    \n",
    "    return {\n",
    "        \"base_input_dir\": base_input_dir,\n",
    "        \"base_output_dir\": base_output_dir\n",
    "    }"
   ]
  },
  {
   "cell_type": "code",
   "execution_count": null,
   "id": "983a75f3",
   "metadata": {
    "lines_to_next_cell": 1
   },
   "outputs": [],
   "source": [
    "def get_api_keys():\n",
    "    \"\"\"環境に応じてAPIキーを設定する。\"\"\"\n",
    "    if is_running_in_colab():\n",
    "        # Google Colab環境の場合、Secret Managerからキーを取得\n",
    "        try:\n",
    "            auth.authenticate_user()\n",
    "            \n",
    "            # ここでプロジェクトIDを設定\n",
    "            project_id = input(\"Google Cloud プロジェクトIDを入力してください: \")\n",
    "            \n",
    "            # OpenAIのAPIキー\n",
    "            openai_secret_name = input(\"OpenAI APIキーのSecret名を入力してください (デフォルト: OPENAI_API_KEY): \") or \"OPENAI_API_KEY\"\n",
    "            \n",
    "            # AnthropicのAPIキー\n",
    "            anthropic_secret_name = input(\"Anthropic APIキーのSecret名を入力してください (デフォルト: ANTHROPIC_API_KEY): \") or \"ANTHROPIC_API_KEY\"\n",
    "            \n",
    "            # Secret Managerからキーを取得\n",
    "            client = secretmanager.SecretManagerServiceClient()\n",
    "            \n",
    "            # OpenAI APIキー\n",
    "            name = f\"projects/{project_id}/secrets/{openai_secret_name}/versions/latest\"\n",
    "            response = client.access_secret_version(request={\"name\": name})\n",
    "            openai_api_key = response.payload.data.decode(\"UTF-8\")\n",
    "            os.environ[\"OPENAI_API_KEY\"] = openai_api_key\n",
    "            print(\"OpenAI API key has been set.\")\n",
    "            \n",
    "            # Anthropic APIキー\n",
    "            name = f\"projects/{project_id}/secrets/{anthropic_secret_name}/versions/latest\"\n",
    "            response = client.access_secret_version(request={\"name\": name})\n",
    "            anthropic_api_key = response.payload.data.decode(\"UTF-8\")\n",
    "            os.environ[\"ANTHROPIC_API_KEY\"] = anthropic_api_key\n",
    "            print(\"Anthropic API key has been set.\")\n",
    "            \n",
    "        except Exception as e:\n",
    "            print(f\"Error getting API keys from Secret Manager: {e}\")\n",
    "            # フォールバック: 直接入力\n",
    "            get_api_keys_from_input()\n",
    "    else:\n",
    "        # ローカル環境の場合\n",
    "        try:\n",
    "            from dotenv import load_dotenv\n",
    "            # .envファイルが存在すればロード\n",
    "            if os.path.exists(\".env\"):\n",
    "                load_dotenv()\n",
    "                if os.getenv(\"OPENAI_API_KEY\") and os.getenv(\"ANTHROPIC_API_KEY\"):\n",
    "                    print(\"API keys loaded from .env file.\")\n",
    "                    return\n",
    "        except ImportError:\n",
    "            pass\n",
    "        \n",
    "        # 環境変数からキーを取得\n",
    "        if os.getenv(\"OPENAI_API_KEY\") and os.getenv(\"ANTHROPIC_API_KEY\"):\n",
    "            print(\"API keys found in environment variables.\")\n",
    "            return\n",
    "        \n",
    "        # 上記の方法で取得できなかった場合は直接入力\n",
    "        get_api_keys_from_input()"
   ]
  },
  {
   "cell_type": "code",
   "execution_count": null,
   "id": "d89f704e",
   "metadata": {
    "lines_to_next_cell": 1
   },
   "outputs": [],
   "source": [
    "def get_api_keys_from_input():\n",
    "    \"\"\"ユーザー入力からAPIキーを取得する。\"\"\"\n",
    "    openai_api_key = input(\"OpenAI APIキーを入力してください: \")\n",
    "    os.environ[\"OPENAI_API_KEY\"] = openai_api_key\n",
    "    \n",
    "    anthropic_api_key = input(\"Anthropic APIキーを入力してください: \")\n",
    "    os.environ[\"ANTHROPIC_API_KEY\"] = anthropic_api_key\n",
    "    \n",
    "    print(\"API keys have been set from user input.\")"
   ]
  },
  {
   "cell_type": "code",
   "execution_count": null,
   "id": "abcfe3a0",
   "metadata": {
    "lines_to_next_cell": 1
   },
   "outputs": [],
   "source": [
    "# APIキー設定（別の方法）\n",
    "# 直接設定することもできます\n",
    "def set_api_keys_manually():\n",
    "    \"\"\"APIキーを手動で設定する\"\"\"\n",
    "    # OpenAI APIキー\n",
    "    openai_api_key = \"\" # ここにAPIキーを入力\n",
    "    if openai_api_key:\n",
    "        os.environ[\"OPENAI_API_KEY\"] = openai_api_key\n",
    "        print(\"OpenAI API key has been set manually.\")\n",
    "    else:\n",
    "        openai_api_key = input(\"OpenAI APIキーを入力してください: \")\n",
    "        os.environ[\"OPENAI_API_KEY\"] = openai_api_key\n",
    "    \n",
    "    # Anthropic APIキー\n",
    "    anthropic_api_key = \"\" # ここにAPIキーを入力\n",
    "    if anthropic_api_key:\n",
    "        os.environ[\"ANTHROPIC_API_KEY\"] = anthropic_api_key\n",
    "        print(\"Anthropic API key has been set manually.\")\n",
    "    else:\n",
    "        anthropic_api_key = input(\"Anthropic APIキーを入力してください: \")\n",
    "        os.environ[\"ANTHROPIC_API_KEY\"] = anthropic_api_key"
   ]
  },
  {
   "cell_type": "code",
   "execution_count": null,
   "id": "3f7a0499",
   "metadata": {},
   "outputs": [],
   "source": [
    "# プログラム実行\n",
    "import audio_transcriber_parallel as transcriber\n",
    "# メインプログラムを実行\n",
    "transcriber.main()"
   ]
  }
 ],
 "metadata": {
  "jupytext": {
   "cell_metadata_filter": "-all",
   "main_language": "python",
   "notebook_metadata_filter": "-all"
  },
  "language_info": {
   "name": "python"
  }
 },
 "nbformat": 4,
 "nbformat_minor": 5
}
